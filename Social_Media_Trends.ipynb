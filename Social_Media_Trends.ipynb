{
 "cells": [
  {
   "attachments": {},
   "cell_type": "markdown",
   "metadata": {},
   "source": [
    "# Viral Social-Media Trends and Engagement Analysis"
   ]
  },
  {
   "attachments": {},
   "cell_type": "markdown",
   "metadata": {},
   "source": [
    "## Importing Libraries"
   ]
  },
  {
   "cell_type": "code",
   "execution_count": 37,
   "metadata": {},
   "outputs": [],
   "source": [
    "import pandas as pd\n",
    "import numpy as np"
   ]
  },
  {
   "attachments": {},
   "cell_type": "markdown",
   "metadata": {},
   "source": [
    "## 1. Extract: Loading the Data"
   ]
  },
  {
   "cell_type": "code",
   "execution_count": 38,
   "metadata": {},
   "outputs": [],
   "source": [
    "# Extract from CSV\n",
    "df = pd.read_csv('Viral_Social_Media_Trends.csv')\n"
   ]
  },
  {
   "attachments": {},
   "cell_type": "markdown",
   "metadata": {},
   "source": [
    "## 2. Cleanse: Data Cleaning and Preparation"
   ]
  },
  {
   "attachments": {},
   "cell_type": "markdown",
   "metadata": {},
   "source": [
    "### Basic data Inspection"
   ]
  },
  {
   "cell_type": "code",
   "execution_count": 39,
   "metadata": {},
   "outputs": [
    {
     "name": "stdout",
     "output_type": "stream",
     "text": [
      "<class 'pandas.core.frame.DataFrame'>\n",
      "RangeIndex: 5000 entries, 0 to 4999\n",
      "Data columns (total 10 columns):\n",
      " #   Column            Non-Null Count  Dtype \n",
      "---  ------            --------------  ----- \n",
      " 0   Post_ID           5000 non-null   object\n",
      " 1   Platform          5000 non-null   object\n",
      " 2   Hashtag           5000 non-null   object\n",
      " 3   Content_Type      5000 non-null   object\n",
      " 4   Region            5000 non-null   object\n",
      " 5   Views             5000 non-null   int64 \n",
      " 6   Likes             5000 non-null   int64 \n",
      " 7   Shares            5000 non-null   int64 \n",
      " 8   Comments          5000 non-null   int64 \n",
      " 9   Engagement_Level  5000 non-null   object\n",
      "dtypes: int64(4), object(6)\n",
      "memory usage: 390.8+ KB\n",
      "None\n",
      "Statistical Summary:\n",
      "\n",
      "              Views          Likes        Shares      Comments\n",
      "count  5.000000e+03    5000.000000   5000.000000   5000.000000\n",
      "mean   2.494066e+06  251475.029800  50519.562000  24888.393800\n",
      "std    1.459490e+06  144349.583384  29066.362671  14284.504319\n",
      "min    1.266000e+03     490.000000     52.000000     18.000000\n",
      "25%    1.186207e+06  126892.250000  25029.000000  12305.250000\n",
      "50%    2.497373e+06  249443.000000  50839.500000  25004.000000\n",
      "75%    3.759781e+06  373970.750000  75774.250000  37072.750000\n",
      "max    4.999430e+06  499922.000000  99978.000000  49993.000000\n",
      "First few rows of dataset:\n",
      "\n",
      "  Post_ID   Platform     Hashtag Content_Type     Region    Views   Likes  \\\n",
      "0  Post_1     TikTok  #Challenge        Video         UK  4163464  339431   \n",
      "1  Post_2  Instagram  #Education       Shorts      India  4155940  215240   \n",
      "2  Post_3    Twitter  #Challenge        Video     Brazil  3666211  327143   \n",
      "3  Post_4    YouTube  #Education       Shorts  Australia   917951  127125   \n",
      "4  Post_5     TikTok      #Dance         Post     Brazil    64866  171361   \n",
      "\n",
      "   Shares  Comments Engagement_Level  \n",
      "0   53135     19346             High  \n",
      "1   65860     27239           Medium  \n",
      "2   39423     36223           Medium  \n",
      "3   11687     36806              Low  \n",
      "4   69581      6376           Medium  \n"
     ]
    }
   ],
   "source": [
    "# Data types and non-null counts\n",
    "print(df.info())  \n",
    "\n",
    "# Statistical summary\n",
    "print(\"Statistical Summary:\\n\")\n",
    "print(df.describe()) \n",
    "\n",
    "# First few rows\n",
    "print(\"First few rows of dataset:\\n\")\n",
    "print(df.head())  \n"
   ]
  },
  {
   "attachments": {},
   "cell_type": "markdown",
   "metadata": {},
   "source": [
    "### Handle missing values"
   ]
  },
  {
   "cell_type": "code",
   "execution_count": 40,
   "metadata": {},
   "outputs": [
    {
     "name": "stdout",
     "output_type": "stream",
     "text": [
      "\n",
      "Missing values before cleaning:\n",
      "Post_ID             0\n",
      "Platform            0\n",
      "Hashtag             0\n",
      "Content_Type        0\n",
      "Region              0\n",
      "Views               0\n",
      "Likes               0\n",
      "Shares              0\n",
      "Comments            0\n",
      "Engagement_Level    0\n",
      "dtype: int64\n"
     ]
    }
   ],
   "source": [
    "# Check for missing values\n",
    "print(\"\\nMissing values before cleaning:\")\n",
    "print(df.isnull().sum())"
   ]
  },
  {
   "cell_type": "code",
   "execution_count": 41,
   "metadata": {},
   "outputs": [
    {
     "name": "stdout",
     "output_type": "stream",
     "text": [
      "Duplicate rows: 0\n"
     ]
    }
   ],
   "source": [
    "# Check for duplicates\n",
    "print(f\"Duplicate rows: {df.duplicated().sum()}\")"
   ]
  },
  {
   "cell_type": "code",
   "execution_count": 42,
   "metadata": {},
   "outputs": [],
   "source": [
    "# Convert data types if needed\n",
    "df['Views'] = pd.to_numeric(df['Views'], errors='coerce')\n",
    "df['Likes'] = pd.to_numeric(df['Likes'], errors='coerce')\n",
    "df['Shares'] = pd.to_numeric(df['Shares'], errors='coerce')\n",
    "df['Comments'] = pd.to_numeric(df['Comments'], errors='coerce')"
   ]
  },
  {
   "cell_type": "code",
   "execution_count": 44,
   "metadata": {},
   "outputs": [],
   "source": [
    "# Handle any remaining missing values after conversion\n",
    "df = df.dropna()"
   ]
  },
  {
   "cell_type": "code",
   "execution_count": 45,
   "metadata": {},
   "outputs": [
    {
     "name": "stdout",
     "output_type": "stream",
     "text": [
      "\n",
      "Outliers in numerical columns:\n",
      "              Views          Likes        Shares      Comments\n",
      "count  5.000000e+03    5000.000000   5000.000000   5000.000000\n",
      "mean   2.494066e+06  251475.029800  50519.562000  24888.393800\n",
      "std    1.459490e+06  144349.583384  29066.362671  14284.504319\n",
      "min    1.266000e+03     490.000000     52.000000     18.000000\n",
      "25%    1.186207e+06  126892.250000  25029.000000  12305.250000\n",
      "50%    2.497373e+06  249443.000000  50839.500000  25004.000000\n",
      "75%    3.759781e+06  373970.750000  75774.250000  37072.750000\n",
      "max    4.999430e+06  499922.000000  99978.000000  49993.000000\n"
     ]
    }
   ],
   "source": [
    "# Check for outliers in numerical columns\n",
    "print(\"\\nOutliers in numerical columns:\")\n",
    "numeric_cols = ['Views', 'Likes', 'Shares', 'Comments']\n",
    "print(df[numeric_cols].describe())"
   ]
  },
  {
   "attachments": {},
   "cell_type": "markdown",
   "metadata": {},
   "source": [
    "## 3. Transform"
   ]
  },
  {
   "attachments": {},
   "cell_type": "markdown",
   "metadata": {},
   "source": [
    "Now let's transform the data for analysis:"
   ]
  },
  {
   "cell_type": "code",
   "execution_count": 46,
   "metadata": {},
   "outputs": [],
   "source": [
    "# Create new derived columns\n",
    "df['Engagement_Rate'] = (df['Likes'] + df['Shares'] + df['Comments']) / df['Views'] * 100"
   ]
  },
  {
   "cell_type": "code",
   "execution_count": 48,
   "metadata": {},
   "outputs": [],
   "source": [
    "# Categorize posts by popularity based on views\n",
    "df['Popularity'] = pd.cut(df['Views'],\n",
    "                          bins=[0, 1000000, 3000000, float('inf')],\n",
    "                          labels=['Low', 'Medium', 'High'])"
   ]
  },
  {
   "cell_type": "code",
   "execution_count": 50,
   "metadata": {},
   "outputs": [],
   "source": [
    "# Create platform-specific metrics\n",
    "platform_metrics = df.groupby('Platform').agg({\n",
    "    'Views': ['mean', 'median', 'sum'],\n",
    "    'Likes': 'mean',\n",
    "    'Shares': 'mean',\n",
    "    'Comments': 'mean',\n",
    "    'Engagement_Rate': 'mean'\n",
    "}).round(2)\n",
    "\n",
    "# Hashtag analysis\n",
    "hashtag_analysis = df.groupby('Hashtag').agg({\n",
    "    'Views': 'mean',\n",
    "    'Engagement_Rate': 'mean',\n",
    "    'Post_ID': 'count'\n",
    "}).rename(columns={'Post_ID': 'Post_Count'}).sort_values('Post_Count', ascending=False)\n",
    "\n",
    "# Region analysis\n",
    "region_analysis = df.groupby('Region').agg({\n",
    "    'Views': 'mean',\n",
    "    'Engagement_Rate': 'mean',\n",
    "    'Post_ID': 'count'\n",
    "}).rename(columns={'Post_ID': 'Post_Count'}).sort_values('Post_Count', ascending=False)\n",
    "\n",
    "# Content type analysis\n",
    "content_type_analysis = df.groupby('Content_Type').agg({\n",
    "    'Views': 'mean',\n",
    "    'Engagement_Rate': 'mean',\n",
    "    'Post_ID': 'count'\n",
    "}).rename(columns={'Post_ID': 'Post_Count'}).sort_values('Post_Count', ascending=False)\n",
    "\n",
    "# Engagement level analysis\n",
    "engagement_level_analysis = df.groupby('Engagement_Level').agg({\n",
    "    'Views': 'mean',\n",
    "    'Engagement_Rate': 'mean',\n",
    "    'Post_ID': 'count'\n",
    "}).rename(columns={'Post_ID': 'Post_Count'}).sort_values('Post_Count', ascending=False)"
   ]
  },
  {
   "attachments": {},
   "cell_type": "markdown",
   "metadata": {},
   "source": [
    "## 4. Saving Processed Data"
   ]
  },
  {
   "cell_type": "code",
   "execution_count": 51,
   "metadata": {},
   "outputs": [],
   "source": [
    "# Save cleaned and transformed data\n",
    "df.to_csv('processed_social_media_trends.csv', index=False)\n",
    "\n",
    "# Save analysis results\n",
    "platform_metrics.to_csv('platform_metrics.csv')\n",
    "hashtag_analysis.to_csv('hashtag_analysis.csv')\n",
    "region_analysis.to_csv('region_analysis.csv')\n",
    "content_type_analysis.to_csv('content_type_analysis.csv')\n",
    "engagement_level_analysis.to_csv('engagement_level_analysis.csv')"
   ]
  }
 ],
 "metadata": {
  "kernelspec": {
   "display_name": "Python 3",
   "language": "python",
   "name": "python3"
  },
  "language_info": {
   "codemirror_mode": {
    "name": "ipython",
    "version": 3
   },
   "file_extension": ".py",
   "mimetype": "text/x-python",
   "name": "python",
   "nbconvert_exporter": "python",
   "pygments_lexer": "ipython3",
   "version": "3.12.1"
  },
  "orig_nbformat": 4
 },
 "nbformat": 4,
 "nbformat_minor": 2
}
